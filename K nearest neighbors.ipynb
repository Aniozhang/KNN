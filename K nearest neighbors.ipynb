{
 "cells": [
  {
   "cell_type": "code",
   "execution_count": 49,
   "id": "55292b2a",
   "metadata": {},
   "outputs": [],
   "source": [
    "import csv\n",
    "import random\n",
    "\n",
    "#the function to read the dataset.The dataset has 500 datapoints;\n",
    "#each datapoint has 24 features and one truth value, which can either be 0 or 1;\n",
    "#each feature is an integer\n",
    "def readfile(path):\n",
    "    #extract necessary colomns from the file, which is called attr and out, out has true values and attr are features.\n",
    "    attr = []\n",
    "    out = []\n",
    "    with open(path) as file:\n",
    "        data = csv.reader(file)\n",
    "        for rows in data:\n",
    "            attr.append(rows[1:-1])\n",
    "            out.append(rows[-1:][0])\n",
    "\n",
    "    #we remove the first row as it has no data\n",
    "    result = list(zip(attr,out))[1:]\n",
    "    result = sorted(result, key = lambda x: random.random())\n",
    "    truth = []\n",
    "    features = []\n",
    "    #converting all the string type into integer\n",
    "    for x,y in result:\n",
    "        temp = []\n",
    "        for f in x:\n",
    "            temp.append(int(f))\n",
    "        features.append(temp)\n",
    "        truth.append(int(y))\n",
    "    #print(result[0][0])\n",
    "    #print(truth[1], features[1])\n",
    "    #print(truth[2], features[2])\n",
    "    return features,truth\n",
    "\n",
    "#call the function and get the dataset, x are the features and y is the true value\n",
    "x, y = readfile(\"/Users/canranzzz/Downloads/Eyes.csv\")"
   ]
  },
  {
   "cell_type": "code",
   "execution_count": 54,
   "id": "48c34235",
   "metadata": {},
   "outputs": [],
   "source": [
    "trainingsize = int(len(x)*0.8)\n",
    "x_1 = x[:trainingsize]\n",
    "y_1 = y[:trainingsize]\n",
    "x_test = x[trainingsize:]\n",
    "y_test = y[trainingsize:]\n",
    "\n",
    "def distance(datapoint1,datapoint2):\n",
    "    dist = 0\n",
    "    for i in range(len(datapoint1)):\n",
    "        dist = dist + (datapoint1[i]-datapoint2[i])**2\n",
    "    return dist**0.5\n"
   ]
  },
  {
   "cell_type": "code",
   "execution_count": null,
   "id": "66d7a9b4",
   "metadata": {},
   "outputs": [],
   "source": []
  },
  {
   "cell_type": "code",
   "execution_count": 55,
   "id": "82d516b3",
   "metadata": {},
   "outputs": [],
   "source": [
    "def predict(input_datapoint, x_train, y_train):\n",
    "    ## letter 'k' means the number of the nearest datapoints that it will check.\n",
    "    k = 20\n",
    " \n",
    "    ## List to store the distances and their true values\n",
    "    distances = []\n",
    "    ## Get the distance to every data point in the training set\n",
    "    for idx in range(len(x_train)):\n",
    "        dist = distance(x_train[idx], input_datapoint)\n",
    "        distances.append((dist, y_train[idx]))\n",
    "   \n",
    " \n",
    "    ## Sort them based on the distance\n",
    "    distances.sort(key=lambda x:x[0])\n",
    "    distances = distances[:k]\n",
    "    #print(distances)\n",
    " \n",
    "    ## Get the prediction.\n",
    "    count_0 = 0\n",
    "    count_1 = 0\n",
    "    for idx in range(k):\n",
    "        if distances[idx][1] > 0.5:\n",
    "            count_1 += 1\n",
    "        else:\n",
    "            count_0 += 1\n",
    " \n",
    "    ## Return the prediction\n",
    "    return count_1 > count_0"
   ]
  },
  {
   "cell_type": "code",
   "execution_count": 56,
   "id": "542a8ed6",
   "metadata": {},
   "outputs": [
    {
     "data": {
      "text/plain": [
       "True"
      ]
     },
     "execution_count": 56,
     "metadata": {},
     "output_type": "execute_result"
    }
   ],
   "source": [
    "predict(x_test[65], x_1, y_1)"
   ]
  },
  {
   "cell_type": "code",
   "execution_count": 57,
   "id": "0b398697",
   "metadata": {},
   "outputs": [
    {
     "name": "stdout",
     "output_type": "stream",
     "text": [
      "1.0\n"
     ]
    }
   ],
   "source": [
    "acc = 0\n",
    "for idx in range(len(x_test)):\n",
    "    prediction = predict(x_test[idx], x_1, y_1)\n",
    "    if prediction and y_test[idx] > 0.5:\n",
    "        acc += 1\n",
    "    if not prediction and y_test[idx] < 0.5:\n",
    "        acc += 1\n",
    "print(acc/len(x_test)) "
   ]
  },
  {
   "cell_type": "code",
   "execution_count": null,
   "id": "e3aa3e20",
   "metadata": {},
   "outputs": [],
   "source": []
  },
  {
   "cell_type": "code",
   "execution_count": null,
   "id": "3fce08f1",
   "metadata": {},
   "outputs": [],
   "source": []
  }
 ],
 "metadata": {
  "kernelspec": {
   "display_name": "Python 3 (ipykernel)",
   "language": "python",
   "name": "python3"
  },
  "language_info": {
   "codemirror_mode": {
    "name": "ipython",
    "version": 3
   },
   "file_extension": ".py",
   "mimetype": "text/x-python",
   "name": "python",
   "nbconvert_exporter": "python",
   "pygments_lexer": "ipython3",
   "version": "3.10.9"
  }
 },
 "nbformat": 4,
 "nbformat_minor": 5
}
